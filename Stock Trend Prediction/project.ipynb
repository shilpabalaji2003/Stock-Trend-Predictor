{
 "cells": [
  {
   "cell_type": "markdown",
   "id": "c2d0e676-be7e-40db-95a2-00e78065d370",
   "metadata": {},
   "source": [
    "# Stock Trend Prediction"
   ]
  },
  {
   "cell_type": "markdown",
   "id": "126e881b-7fe2-48f2-a013-f7aedd639cd6",
   "metadata": {},
   "source": [
    "## Importing necessary libraries"
   ]
  },
  {
   "cell_type": "code",
   "execution_count": 1,
   "id": "0a7e68eb-b309-4bb2-971a-776ffb391d1d",
   "metadata": {},
   "outputs": [],
   "source": [
    "import pandas as pd\n",
    "import pandas_datareader as data\n",
    "import numpy as np\n",
    "import matplotlib.pyplot as plt\n",
    "import yfinance as yf\n",
    "from datetime import datetime, timedelta"
   ]
  },
  {
   "cell_type": "markdown",
   "id": "67341c80-f3b6-4818-8bd4-9cf347be10f0",
   "metadata": {},
   "source": [
    "## Importing real time yahoo finance data set for the years 2010 to 2019"
   ]
  },
  {
   "cell_type": "code",
   "execution_count": 2,
   "id": "67bebda5-a422-4b90-a5fa-635f9ff6b598",
   "metadata": {},
   "outputs": [
    {
     "name": "stdout",
     "output_type": "stream",
     "text": [
      "[*********************100%%**********************]  1 of 1 completed\n"
     ]
    },
    {
     "data": {
      "text/html": [
       "<div>\n",
       "<style scoped>\n",
       "    .dataframe tbody tr th:only-of-type {\n",
       "        vertical-align: middle;\n",
       "    }\n",
       "\n",
       "    .dataframe tbody tr th {\n",
       "        vertical-align: top;\n",
       "    }\n",
       "\n",
       "    .dataframe thead th {\n",
       "        text-align: right;\n",
       "    }\n",
       "</style>\n",
       "<table border=\"1\" class=\"dataframe\">\n",
       "  <thead>\n",
       "    <tr style=\"text-align: right;\">\n",
       "      <th></th>\n",
       "      <th>Open</th>\n",
       "      <th>High</th>\n",
       "      <th>Low</th>\n",
       "      <th>Close</th>\n",
       "      <th>Adj Close</th>\n",
       "      <th>Volume</th>\n",
       "    </tr>\n",
       "    <tr>\n",
       "      <th>Date</th>\n",
       "      <th></th>\n",
       "      <th></th>\n",
       "      <th></th>\n",
       "      <th></th>\n",
       "      <th></th>\n",
       "      <th></th>\n",
       "    </tr>\n",
       "  </thead>\n",
       "  <tbody>\n",
       "    <tr>\n",
       "      <th>2012-01-03</th>\n",
       "      <td>14.621429</td>\n",
       "      <td>14.732143</td>\n",
       "      <td>14.607143</td>\n",
       "      <td>14.686786</td>\n",
       "      <td>12.466094</td>\n",
       "      <td>302220800</td>\n",
       "    </tr>\n",
       "    <tr>\n",
       "      <th>2012-01-04</th>\n",
       "      <td>14.642857</td>\n",
       "      <td>14.810000</td>\n",
       "      <td>14.617143</td>\n",
       "      <td>14.765714</td>\n",
       "      <td>12.533087</td>\n",
       "      <td>260022000</td>\n",
       "    </tr>\n",
       "    <tr>\n",
       "      <th>2012-01-05</th>\n",
       "      <td>14.819643</td>\n",
       "      <td>14.948214</td>\n",
       "      <td>14.738214</td>\n",
       "      <td>14.929643</td>\n",
       "      <td>12.672231</td>\n",
       "      <td>271269600</td>\n",
       "    </tr>\n",
       "    <tr>\n",
       "      <th>2012-01-06</th>\n",
       "      <td>14.991786</td>\n",
       "      <td>15.098214</td>\n",
       "      <td>14.972143</td>\n",
       "      <td>15.085714</td>\n",
       "      <td>12.804700</td>\n",
       "      <td>318292800</td>\n",
       "    </tr>\n",
       "    <tr>\n",
       "      <th>2012-01-09</th>\n",
       "      <td>15.196429</td>\n",
       "      <td>15.276786</td>\n",
       "      <td>15.048214</td>\n",
       "      <td>15.061786</td>\n",
       "      <td>12.784389</td>\n",
       "      <td>394024400</td>\n",
       "    </tr>\n",
       "  </tbody>\n",
       "</table>\n",
       "</div>"
      ],
      "text/plain": [
       "                 Open       High        Low      Close  Adj Close     Volume\n",
       "Date                                                                        \n",
       "2012-01-03  14.621429  14.732143  14.607143  14.686786  12.466094  302220800\n",
       "2012-01-04  14.642857  14.810000  14.617143  14.765714  12.533087  260022000\n",
       "2012-01-05  14.819643  14.948214  14.738214  14.929643  12.672231  271269600\n",
       "2012-01-06  14.991786  15.098214  14.972143  15.085714  12.804700  318292800\n",
       "2012-01-09  15.196429  15.276786  15.048214  15.061786  12.784389  394024400"
      ]
     },
     "execution_count": 2,
     "metadata": {},
     "output_type": "execute_result"
    }
   ],
   "source": [
    "start='2012-01-01'\n",
    "end='2022-12-31'\n",
    "symbol='AAPL'\n",
    "\n",
    "df=yf.download(symbol, start=start, end=end)\n",
    "df.head()"
   ]
  },
  {
   "cell_type": "code",
   "execution_count": 3,
   "id": "4c0ce66c-07e8-49b1-874f-cf6166a008f5",
   "metadata": {},
   "outputs": [
    {
     "data": {
      "text/html": [
       "<div>\n",
       "<style scoped>\n",
       "    .dataframe tbody tr th:only-of-type {\n",
       "        vertical-align: middle;\n",
       "    }\n",
       "\n",
       "    .dataframe tbody tr th {\n",
       "        vertical-align: top;\n",
       "    }\n",
       "\n",
       "    .dataframe thead th {\n",
       "        text-align: right;\n",
       "    }\n",
       "</style>\n",
       "<table border=\"1\" class=\"dataframe\">\n",
       "  <thead>\n",
       "    <tr style=\"text-align: right;\">\n",
       "      <th></th>\n",
       "      <th>Open</th>\n",
       "      <th>High</th>\n",
       "      <th>Low</th>\n",
       "      <th>Close</th>\n",
       "      <th>Adj Close</th>\n",
       "      <th>Volume</th>\n",
       "    </tr>\n",
       "    <tr>\n",
       "      <th>Date</th>\n",
       "      <th></th>\n",
       "      <th></th>\n",
       "      <th></th>\n",
       "      <th></th>\n",
       "      <th></th>\n",
       "      <th></th>\n",
       "    </tr>\n",
       "  </thead>\n",
       "  <tbody>\n",
       "    <tr>\n",
       "      <th>2022-12-23</th>\n",
       "      <td>130.919998</td>\n",
       "      <td>132.419998</td>\n",
       "      <td>129.639999</td>\n",
       "      <td>131.860001</td>\n",
       "      <td>131.299820</td>\n",
       "      <td>63814900</td>\n",
       "    </tr>\n",
       "    <tr>\n",
       "      <th>2022-12-27</th>\n",
       "      <td>131.380005</td>\n",
       "      <td>131.410004</td>\n",
       "      <td>128.720001</td>\n",
       "      <td>130.029999</td>\n",
       "      <td>129.477585</td>\n",
       "      <td>69007800</td>\n",
       "    </tr>\n",
       "    <tr>\n",
       "      <th>2022-12-28</th>\n",
       "      <td>129.669998</td>\n",
       "      <td>131.029999</td>\n",
       "      <td>125.870003</td>\n",
       "      <td>126.040001</td>\n",
       "      <td>125.504539</td>\n",
       "      <td>85438400</td>\n",
       "    </tr>\n",
       "    <tr>\n",
       "      <th>2022-12-29</th>\n",
       "      <td>127.989998</td>\n",
       "      <td>130.479996</td>\n",
       "      <td>127.730003</td>\n",
       "      <td>129.610001</td>\n",
       "      <td>129.059372</td>\n",
       "      <td>75703700</td>\n",
       "    </tr>\n",
       "    <tr>\n",
       "      <th>2022-12-30</th>\n",
       "      <td>128.410004</td>\n",
       "      <td>129.949997</td>\n",
       "      <td>127.430000</td>\n",
       "      <td>129.929993</td>\n",
       "      <td>129.378006</td>\n",
       "      <td>77034200</td>\n",
       "    </tr>\n",
       "  </tbody>\n",
       "</table>\n",
       "</div>"
      ],
      "text/plain": [
       "                  Open        High         Low       Close   Adj Close  \\\n",
       "Date                                                                     \n",
       "2022-12-23  130.919998  132.419998  129.639999  131.860001  131.299820   \n",
       "2022-12-27  131.380005  131.410004  128.720001  130.029999  129.477585   \n",
       "2022-12-28  129.669998  131.029999  125.870003  126.040001  125.504539   \n",
       "2022-12-29  127.989998  130.479996  127.730003  129.610001  129.059372   \n",
       "2022-12-30  128.410004  129.949997  127.430000  129.929993  129.378006   \n",
       "\n",
       "              Volume  \n",
       "Date                  \n",
       "2022-12-23  63814900  \n",
       "2022-12-27  69007800  \n",
       "2022-12-28  85438400  \n",
       "2022-12-29  75703700  \n",
       "2022-12-30  77034200  "
      ]
     },
     "execution_count": 3,
     "metadata": {},
     "output_type": "execute_result"
    }
   ],
   "source": [
    "df.tail()"
   ]
  },
  {
   "cell_type": "code",
   "execution_count": 4,
   "id": "b638f658-ee09-47aa-806e-6810d8919d5e",
   "metadata": {},
   "outputs": [
    {
     "data": {
      "text/html": [
       "<div>\n",
       "<style scoped>\n",
       "    .dataframe tbody tr th:only-of-type {\n",
       "        vertical-align: middle;\n",
       "    }\n",
       "\n",
       "    .dataframe tbody tr th {\n",
       "        vertical-align: top;\n",
       "    }\n",
       "\n",
       "    .dataframe thead th {\n",
       "        text-align: right;\n",
       "    }\n",
       "</style>\n",
       "<table border=\"1\" class=\"dataframe\">\n",
       "  <thead>\n",
       "    <tr style=\"text-align: right;\">\n",
       "      <th></th>\n",
       "      <th>Date</th>\n",
       "      <th>Open</th>\n",
       "      <th>High</th>\n",
       "      <th>Low</th>\n",
       "      <th>Close</th>\n",
       "      <th>Adj Close</th>\n",
       "      <th>Volume</th>\n",
       "    </tr>\n",
       "  </thead>\n",
       "  <tbody>\n",
       "    <tr>\n",
       "      <th>0</th>\n",
       "      <td>2012-01-03</td>\n",
       "      <td>14.621429</td>\n",
       "      <td>14.732143</td>\n",
       "      <td>14.607143</td>\n",
       "      <td>14.686786</td>\n",
       "      <td>12.466094</td>\n",
       "      <td>302220800</td>\n",
       "    </tr>\n",
       "    <tr>\n",
       "      <th>1</th>\n",
       "      <td>2012-01-04</td>\n",
       "      <td>14.642857</td>\n",
       "      <td>14.810000</td>\n",
       "      <td>14.617143</td>\n",
       "      <td>14.765714</td>\n",
       "      <td>12.533087</td>\n",
       "      <td>260022000</td>\n",
       "    </tr>\n",
       "    <tr>\n",
       "      <th>2</th>\n",
       "      <td>2012-01-05</td>\n",
       "      <td>14.819643</td>\n",
       "      <td>14.948214</td>\n",
       "      <td>14.738214</td>\n",
       "      <td>14.929643</td>\n",
       "      <td>12.672231</td>\n",
       "      <td>271269600</td>\n",
       "    </tr>\n",
       "    <tr>\n",
       "      <th>3</th>\n",
       "      <td>2012-01-06</td>\n",
       "      <td>14.991786</td>\n",
       "      <td>15.098214</td>\n",
       "      <td>14.972143</td>\n",
       "      <td>15.085714</td>\n",
       "      <td>12.804700</td>\n",
       "      <td>318292800</td>\n",
       "    </tr>\n",
       "    <tr>\n",
       "      <th>4</th>\n",
       "      <td>2012-01-09</td>\n",
       "      <td>15.196429</td>\n",
       "      <td>15.276786</td>\n",
       "      <td>15.048214</td>\n",
       "      <td>15.061786</td>\n",
       "      <td>12.784389</td>\n",
       "      <td>394024400</td>\n",
       "    </tr>\n",
       "  </tbody>\n",
       "</table>\n",
       "</div>"
      ],
      "text/plain": [
       "        Date       Open       High        Low      Close  Adj Close     Volume\n",
       "0 2012-01-03  14.621429  14.732143  14.607143  14.686786  12.466094  302220800\n",
       "1 2012-01-04  14.642857  14.810000  14.617143  14.765714  12.533087  260022000\n",
       "2 2012-01-05  14.819643  14.948214  14.738214  14.929643  12.672231  271269600\n",
       "3 2012-01-06  14.991786  15.098214  14.972143  15.085714  12.804700  318292800\n",
       "4 2012-01-09  15.196429  15.276786  15.048214  15.061786  12.784389  394024400"
      ]
     },
     "execution_count": 4,
     "metadata": {},
     "output_type": "execute_result"
    }
   ],
   "source": [
    "df=df.reset_index()\n",
    "df.head()"
   ]
  },
  {
   "cell_type": "markdown",
   "id": "fa1a3e3b-74b4-4488-9ac9-f9dacc36c099",
   "metadata": {},
   "source": [
    "## Dropping unecessary columns"
   ]
  },
  {
   "cell_type": "code",
   "execution_count": 5,
   "id": "ac3a4189-e224-42d5-b694-b1fb7b8ddf0b",
   "metadata": {},
   "outputs": [
    {
     "data": {
      "text/html": [
       "<div>\n",
       "<style scoped>\n",
       "    .dataframe tbody tr th:only-of-type {\n",
       "        vertical-align: middle;\n",
       "    }\n",
       "\n",
       "    .dataframe tbody tr th {\n",
       "        vertical-align: top;\n",
       "    }\n",
       "\n",
       "    .dataframe thead th {\n",
       "        text-align: right;\n",
       "    }\n",
       "</style>\n",
       "<table border=\"1\" class=\"dataframe\">\n",
       "  <thead>\n",
       "    <tr style=\"text-align: right;\">\n",
       "      <th></th>\n",
       "      <th>Open</th>\n",
       "      <th>High</th>\n",
       "      <th>Low</th>\n",
       "      <th>Close</th>\n",
       "      <th>Volume</th>\n",
       "    </tr>\n",
       "  </thead>\n",
       "  <tbody>\n",
       "    <tr>\n",
       "      <th>0</th>\n",
       "      <td>14.621429</td>\n",
       "      <td>14.732143</td>\n",
       "      <td>14.607143</td>\n",
       "      <td>14.686786</td>\n",
       "      <td>302220800</td>\n",
       "    </tr>\n",
       "    <tr>\n",
       "      <th>1</th>\n",
       "      <td>14.642857</td>\n",
       "      <td>14.810000</td>\n",
       "      <td>14.617143</td>\n",
       "      <td>14.765714</td>\n",
       "      <td>260022000</td>\n",
       "    </tr>\n",
       "    <tr>\n",
       "      <th>2</th>\n",
       "      <td>14.819643</td>\n",
       "      <td>14.948214</td>\n",
       "      <td>14.738214</td>\n",
       "      <td>14.929643</td>\n",
       "      <td>271269600</td>\n",
       "    </tr>\n",
       "    <tr>\n",
       "      <th>3</th>\n",
       "      <td>14.991786</td>\n",
       "      <td>15.098214</td>\n",
       "      <td>14.972143</td>\n",
       "      <td>15.085714</td>\n",
       "      <td>318292800</td>\n",
       "    </tr>\n",
       "    <tr>\n",
       "      <th>4</th>\n",
       "      <td>15.196429</td>\n",
       "      <td>15.276786</td>\n",
       "      <td>15.048214</td>\n",
       "      <td>15.061786</td>\n",
       "      <td>394024400</td>\n",
       "    </tr>\n",
       "  </tbody>\n",
       "</table>\n",
       "</div>"
      ],
      "text/plain": [
       "        Open       High        Low      Close     Volume\n",
       "0  14.621429  14.732143  14.607143  14.686786  302220800\n",
       "1  14.642857  14.810000  14.617143  14.765714  260022000\n",
       "2  14.819643  14.948214  14.738214  14.929643  271269600\n",
       "3  14.991786  15.098214  14.972143  15.085714  318292800\n",
       "4  15.196429  15.276786  15.048214  15.061786  394024400"
      ]
     },
     "execution_count": 5,
     "metadata": {},
     "output_type": "execute_result"
    }
   ],
   "source": [
    "df=df.drop(['Date', 'Adj Close'], axis=1)\n",
    "df.head()"
   ]
  },
  {
   "cell_type": "markdown",
   "id": "97dc3e49-5c57-4ab2-bf7b-0487b7fd86c6",
   "metadata": {},
   "source": [
    "## Checking for null values"
   ]
  },
  {
   "cell_type": "code",
   "execution_count": 6,
   "id": "c0a921de-8afa-4228-af6e-29be55091bef",
   "metadata": {},
   "outputs": [
    {
     "data": {
      "text/plain": [
       "Open      0\n",
       "High      0\n",
       "Low       0\n",
       "Close     0\n",
       "Volume    0\n",
       "dtype: int64"
      ]
     },
     "execution_count": 6,
     "metadata": {},
     "output_type": "execute_result"
    }
   ],
   "source": [
    "df.isnull().sum()"
   ]
  },
  {
   "cell_type": "markdown",
   "id": "211752f1-9a30-47ae-a77d-141c7b2d8b0d",
   "metadata": {},
   "source": [
    "## Checking for any NaN values"
   ]
  },
  {
   "cell_type": "code",
   "execution_count": 7,
   "id": "3b11511a-d7dc-4e0c-b15c-0f207a861aed",
   "metadata": {},
   "outputs": [
    {
     "data": {
      "text/plain": [
       "Open      0\n",
       "High      0\n",
       "Low       0\n",
       "Close     0\n",
       "Volume    0\n",
       "dtype: int64"
      ]
     },
     "execution_count": 7,
     "metadata": {},
     "output_type": "execute_result"
    }
   ],
   "source": [
    "df.isna().sum()"
   ]
  },
  {
   "cell_type": "code",
   "execution_count": 8,
   "id": "8068f94b-8043-470f-8017-e9cf5ba3a18a",
   "metadata": {},
   "outputs": [
    {
     "data": {
      "text/plain": [
       "[<matplotlib.lines.Line2D at 0x234ec45d190>]"
      ]
     },
     "execution_count": 8,
     "metadata": {},
     "output_type": "execute_result"
    },
    {
     "data": {
      "image/png": "[encoded data removed]",
      "text/plain": [
       "<Figure size 640x480 with 1 Axes>"
      ]
     },
     "metadata": {},
     "output_type": "display_data"
    }
   ],
   "source": [
    "plt.plot(df.Close)"
   ]
  },
  {
   "cell_type": "markdown",
   "id": "285a9294-eaa2-483c-93aa-1dcf6a95e073",
   "metadata": {},
   "source": [
    "## Calculating 100 days moving average"
   ]
  },
  {
   "cell_type": "code",
   "execution_count": 9,
   "id": "bb51a559-2480-4d00-be1d-85be345ab4f4",
   "metadata": {},
   "outputs": [
    {
     "data": {
      "text/plain": [
       "0              NaN\n",
       "1              NaN\n",
       "2              NaN\n",
       "3              NaN\n",
       "4              NaN\n",
       "           ...    \n",
       "2763    150.515600\n",
       "2764    150.157800\n",
       "2765    149.764699\n",
       "2766    149.412100\n",
       "2767    149.062199\n",
       "Name: Close, Length: 2768, dtype: float64"
      ]
     },
     "execution_count": 9,
     "metadata": {},
     "output_type": "execute_result"
    }
   ],
   "source": [
    "ma100=df.Close.rolling(100).mean()\n",
    "ma100"
   ]
  },
  {
   "cell_type": "markdown",
   "id": "21ff8e98-1b1f-4b9c-ac4f-a62487bf3e6e",
   "metadata": {},
   "source": [
    "## Ploting 100 days moving average and closing prices"
   ]
  },
  {
   "cell_type": "code",
   "execution_count": 10,
   "id": "60b3c182-417a-4d89-baf9-09757e9deb2e",
   "metadata": {},
   "outputs": [
    {
     "data": {
      "image/png": "[encoded data removed]",
      "text/plain": [
       "<Figure size 1200x600 with 1 Axes>"
      ]
     },
     "metadata": {},
     "output_type": "display_data"
    }
   ],
   "source": [
    "plt.figure(figsize=(12, 6))\n",
    "plt.plot(df.Close)\n",
    "plt.plot(ma100, color='r')\n",
    "plt.show()"
   ]
  },
  {
   "cell_type": "markdown",
   "id": "1d0f5d5a-ee3c-444b-a839-ef70803924c1",
   "metadata": {},
   "source": [
    "## Calculating 200 days moving average"
   ]
  },
  {
   "cell_type": "code",
   "execution_count": 11,
   "id": "3c8e89fe-d303-4a65-8b68-80b2dbe07554",
   "metadata": {},
   "outputs": [
    {
     "data": {
      "text/plain": [
       "0            NaN\n",
       "1            NaN\n",
       "2            NaN\n",
       "3            NaN\n",
       "4            NaN\n",
       "          ...   \n",
       "2763    152.1331\n",
       "2764    152.0096\n",
       "2765    151.8867\n",
       "2766    151.7593\n",
       "2767    151.6110\n",
       "Name: Close, Length: 2768, dtype: float64"
      ]
     },
     "execution_count": 11,
     "metadata": {},
     "output_type": "execute_result"
    }
   ],
   "source": [
    "ma200=df.Close.rolling(200).mean()\n",
    "ma200"
   ]
  },
  {
   "cell_type": "markdown",
   "id": "501e281e-1b5a-459d-9a96-a0d88eaf743c",
   "metadata": {},
   "source": [
    "## Plotting 100 days, 200 days moving average and closing prices"
   ]
  },
  {
   "cell_type": "code",
   "execution_count": 12,
   "id": "2b53f170-c215-45d7-b3f5-cd1808569d98",
   "metadata": {},
   "outputs": [
    {
     "data": {
      "image/png": "[encoded data removed]",
      "text/plain": [
       "<Figure size 1200x600 with 1 Axes>"
      ]
     },
     "metadata": {},
     "output_type": "display_data"
    }
   ],
   "source": [
    "plt.figure(figsize=(12, 6))\n",
    "plt.plot(df.Close)\n",
    "plt.plot(ma100, color='r')\n",
    "plt.plot(ma200, color='g')\n",
    "plt.show()"
   ]
  },
  {
   "cell_type": "markdown",
   "id": "ba4da926-3541-411d-943a-1a809a3d8a51",
   "metadata": {},
   "source": [
    "## Splitting data into training and testing sets"
   ]
  },
  {
   "cell_type": "code",
   "execution_count": 13,
   "id": "14d4e06d-a2bf-4bf5-84f0-5e98cde48db9",
   "metadata": {},
   "outputs": [],
   "source": [
    "data_training=pd.DataFrame(df['Close'][0:int(len(df)*0.70)])\n",
    "data_testing=pd.DataFrame(df['Close'][int(len(df)*0.70):int(len(df))])"
   ]
  },
  {
   "cell_type": "code",
   "execution_count": 14,
   "id": "37a4cbc8-5b4a-49f8-b57d-45c112179d66",
   "metadata": {},
   "outputs": [
    {
     "data": {
      "text/html": [
       "<div>\n",
       "<style scoped>\n",
       "    .dataframe tbody tr th:only-of-type {\n",
       "        vertical-align: middle;\n",
       "    }\n",
       "\n",
       "    .dataframe tbody tr th {\n",
       "        vertical-align: top;\n",
       "    }\n",
       "\n",
       "    .dataframe thead th {\n",
       "        text-align: right;\n",
       "    }\n",
       "</style>\n",
       "<table border=\"1\" class=\"dataframe\">\n",
       "  <thead>\n",
       "    <tr style=\"text-align: right;\">\n",
       "      <th></th>\n",
       "      <th>Close</th>\n",
       "    </tr>\n",
       "  </thead>\n",
       "  <tbody>\n",
       "    <tr>\n",
       "      <th>0</th>\n",
       "      <td>14.686786</td>\n",
       "    </tr>\n",
       "    <tr>\n",
       "      <th>1</th>\n",
       "      <td>14.765714</td>\n",
       "    </tr>\n",
       "    <tr>\n",
       "      <th>2</th>\n",
       "      <td>14.929643</td>\n",
       "    </tr>\n",
       "    <tr>\n",
       "      <th>3</th>\n",
       "      <td>15.085714</td>\n",
       "    </tr>\n",
       "    <tr>\n",
       "      <th>4</th>\n",
       "      <td>15.061786</td>\n",
       "    </tr>\n",
       "  </tbody>\n",
       "</table>\n",
       "</div>"
      ],
      "text/plain": [
       "       Close\n",
       "0  14.686786\n",
       "1  14.765714\n",
       "2  14.929643\n",
       "3  15.085714\n",
       "4  15.061786"
      ]
     },
     "execution_count": 14,
     "metadata": {},
     "output_type": "execute_result"
    }
   ],
   "source": [
    "data_training.head()"
   ]
  },
  {
   "cell_type": "code",
   "execution_count": 15,
   "id": "0f250f60-2e69-46ea-800d-d55fce9b1d42",
   "metadata": {},
   "outputs": [
    {
     "data": {
      "text/html": [
       "<div>\n",
       "<style scoped>\n",
       "    .dataframe tbody tr th:only-of-type {\n",
       "        vertical-align: middle;\n",
       "    }\n",
       "\n",
       "    .dataframe tbody tr th {\n",
       "        vertical-align: top;\n",
       "    }\n",
       "\n",
       "    .dataframe thead th {\n",
       "        text-align: right;\n",
       "    }\n",
       "</style>\n",
       "<table border=\"1\" class=\"dataframe\">\n",
       "  <thead>\n",
       "    <tr style=\"text-align: right;\">\n",
       "      <th></th>\n",
       "      <th>Close</th>\n",
       "    </tr>\n",
       "  </thead>\n",
       "  <tbody>\n",
       "    <tr>\n",
       "      <th>1937</th>\n",
       "      <td>54.974998</td>\n",
       "    </tr>\n",
       "    <tr>\n",
       "      <th>1938</th>\n",
       "      <td>55.174999</td>\n",
       "    </tr>\n",
       "    <tr>\n",
       "      <th>1939</th>\n",
       "      <td>55.692501</td>\n",
       "    </tr>\n",
       "    <tr>\n",
       "      <th>1940</th>\n",
       "      <td>55.240002</td>\n",
       "    </tr>\n",
       "    <tr>\n",
       "      <th>1941</th>\n",
       "      <td>54.432499</td>\n",
       "    </tr>\n",
       "  </tbody>\n",
       "</table>\n",
       "</div>"
      ],
      "text/plain": [
       "          Close\n",
       "1937  54.974998\n",
       "1938  55.174999\n",
       "1939  55.692501\n",
       "1940  55.240002\n",
       "1941  54.432499"
      ]
     },
     "execution_count": 15,
     "metadata": {},
     "output_type": "execute_result"
    }
   ],
   "source": [
    "data_testing.head()"
   ]
  },
  {
   "cell_type": "markdown",
   "id": "d6612cc7-70b5-4242-8f79-f02868956ade",
   "metadata": {},
   "source": [
    "## Scaling the data between 0 and 1 for uniformity"
   ]
  },
  {
   "cell_type": "code",
   "execution_count": 16,
   "id": "e4b47e70-7230-495d-a1a1-cff34f762c20",
   "metadata": {},
   "outputs": [
    {
     "name": "stdout",
     "output_type": "stream",
     "text": [
      "[[0.01677525]\n",
      " [0.01856622]\n",
      " [0.02228596]\n",
      " ...\n",
      " [0.95189465]\n",
      " [0.94905826]\n",
      " [0.92443835]]\n"
     ]
    }
   ],
   "source": [
    "from sklearn.preprocessing import MinMaxScaler\n",
    "scaler=MinMaxScaler(feature_range=(0, 1))\n",
    "data_training_array=scaler.fit_transform(data_training)\n",
    "print(data_training_array)"
   ]
  },
  {
   "cell_type": "markdown",
   "id": "9b847b15-13df-4722-9e3a-ac9339757369",
   "metadata": {},
   "source": [
    "## Create training data (x_train) for prediction (y_train)"
   ]
  },
  {
   "cell_type": "code",
   "execution_count": 17,
   "id": "111fb1ac-4431-4238-aec2-2ff2d354a1e7",
   "metadata": {},
   "outputs": [],
   "source": [
    "x_train=[]\n",
    "y_train=[]\n",
    "\n",
    "for i in range(100, data_training_array.shape[0]):\n",
    "    x_train.append(data_training_array[i-100:i])\n",
    "    y_train.append(data_training_array[i, 0])\n",
    "x_train, y_train=np.array(x_train), np.array(y_train)"
   ]
  },
  {
   "cell_type": "code",
   "execution_count": 18,
   "id": "2c7e90da-ff84-4031-833a-c8694371cb2b",
   "metadata": {},
   "outputs": [
    {
     "data": {
      "text/plain": [
       "(1837, 100, 1)"
      ]
     },
     "execution_count": 18,
     "metadata": {},
     "output_type": "execute_result"
    }
   ],
   "source": [
    "x_train.shape"
   ]
  },
  {
   "cell_type": "markdown",
   "id": "0e03bc71-4fc2-4a92-863b-bfd2c2d714c8",
   "metadata": {},
   "source": [
    "## Creating LSTM model using keras and tensorflow"
   ]
  },
  {
   "cell_type": "code",
   "execution_count": 19,
   "id": "d52360dc-ca27-44b1-8b84-6d4394bbed62",
   "metadata": {},
   "outputs": [],
   "source": [
    "from tensorflow.keras.layers import Dense, Dropout, LSTM\n",
    "from tensorflow.keras.models import Sequential"
   ]
  },
  {
   "cell_type": "code",
   "execution_count": 20,
   "id": "671bdcad-7fc1-459b-90eb-10a1a61fce8a",
   "metadata": {},
   "outputs": [],
   "source": [
    "model=Sequential()\n",
    "model.add(LSTM(units=50, activation='relu', return_sequences=True,\n",
    "               input_shape=(x_train.shape[1], 1)))\n",
    "model.add(Dropout(0.2))\n",
    "\n",
    "model.add(LSTM(units=60, activation='relu', return_sequences=True))\n",
    "model.add(Dropout(0.3))\n",
    "\n",
    "model.add(LSTM(units=80, activation='relu', return_sequences=True))\n",
    "model.add(Dropout(0.4))\n",
    "\n",
    "model.add(LSTM(units=120, activation='relu'))\n",
    "model.add(Dropout(0.5))\n",
    "\n",
    "model.add(Dense(units=1))"
   ]
  },
  {
   "cell_type": "raw",
   "id": "04343a7c-79bc-4b72-bd4c-8528db298db9",
   "metadata": {},
   "source": [
    "units: This parameter is set to 50, which means you're adding an LSTM layer with 50 neurons (units). These neurons will learn patterns in the data.\r\n",
    "activation: The activation function for the LSTM layer is 'relu'. ReLU (Rectified Linear Unit) is a commonly used activation function that introduce\n",
    " non-linearity into the model.\r\n",
    "return_sequences: You've set this to True, indicating that the LSTM layer should return sequences of outputs for each time step in the input sequence\n",
    ". This is often used when stacking multiple LSTM layers.\r\n",
    "input_shape: This parameter specifies the shape of the input data. In your case, it's (x_train.shape[1] 1\n",
    "\n",
    "), which means the input data is expected to have a shape of (number_of_time_steps, number_of_featues\n",
    "\n",
    "). x_train.shape[1] represents the number of time steps in your input sequence, and 1 is the number of features at each t\n",
    "\n",
    "rate: You've set the dropout rate to 0.2. This means that during training, 20% of the input units in the previous layer (in this case, the LSTM layer) will be randomly set to zero during each training batch. Dropout is a regularization technique that helps prevent overfitting.\n",
    "\n",
    "units: In the final layer, you've added a Dense (fully connected) layer with units=1. This means that the output of your model will be a single value. In many cases, this is used for regression tasks where you want to predict a continuous value.ep."
   ]
  },
  {
   "cell_type": "code",
   "execution_count": 21,
   "id": "f4c84d40-84c5-4000-9d5d-4dd2b701238d",
   "metadata": {},
   "outputs": [
    {
     "name": "stdout",
     "output_type": "stream",
     "text": [
      "Model: \"sequential\"\n",
      "_________________________________________________________________\n",
      " Layer (type)                Output Shape              Param #   \n",
      "=================================================================\n",
      " lstm (LSTM)                 (None, 100, 50)           10400     \n",
      "                                                                 \n",
      " dropout (Dropout)           (None, 100, 50)           0         \n",
      "                                                                 \n",
      " lstm_1 (LSTM)               (None, 100, 60)           26640     \n",
      "                                                                 \n",
      " dropout_1 (Dropout)         (None, 100, 60)           0         \n",
      "                                                                 \n",
      " lstm_2 (LSTM)               (None, 100, 80)           45120     \n",
      "                                                                 \n",
      " dropout_2 (Dropout)         (None, 100, 80)           0         \n",
      "                                                                 \n",
      " lstm_3 (LSTM)               (None, 120)               96480     \n",
      "                                                                 \n",
      " dropout_3 (Dropout)         (None, 120)               0         \n",
      "                                                                 \n",
      " dense (Dense)               (None, 1)                 121       \n",
      "                                                                 \n",
      "=================================================================\n",
      "Total params: 178761 (698.29 KB)\n",
      "Trainable params: 178761 (698.29 KB)\n",
      "Non-trainable params: 0 (0.00 Byte)\n",
      "_________________________________________________________________\n"
     ]
    }
   ],
   "source": [
    "model.summary()"
   ]
  },
  {
   "cell_type": "markdown",
   "id": "b240b4ff-6464-400e-b30d-a2edfb03b6bf",
   "metadata": {},
   "source": [
    "## Compile and train the model"
   ]
  },
  {
   "cell_type": "code",
   "execution_count": 22,
   "id": "d883fb85-e7c2-47ab-b3c6-198c0c3a8b1c",
   "metadata": {},
   "outputs": [
    {
     "name": "stdout",
     "output_type": "stream",
     "text": [
      "Epoch 1/50\n",
      "58/58 [==============================] - 16s 185ms/step - loss: 0.0342\n",
      "Epoch 2/50\n",
      "58/58 [==============================] - 9s 153ms/step - loss: 0.0096\n",
      "Epoch 3/50\n",
      "58/58 [==============================] - 8s 130ms/step - loss: 0.0072\n",
      "Epoch 4/50\n",
      "58/58 [==============================] - 8s 138ms/step - loss: 0.0072\n",
      "Epoch 5/50\n",
      "58/58 [==============================] - 8s 129ms/step - loss: 0.0066\n",
      "Epoch 6/50\n",
      "58/58 [==============================] - 7s 125ms/step - loss: 0.0066\n",
      "Epoch 7/50\n",
      "58/58 [==============================] - 8s 137ms/step - loss: 0.0062\n",
      "Epoch 8/50\n",
      "58/58 [==============================] - 8s 137ms/step - loss: 0.0054\n",
      "Epoch 9/50\n",
      "58/58 [==============================] - 8s 146ms/step - loss: 0.0052\n",
      "Epoch 10/50\n",
      "58/58 [==============================] - 8s 142ms/step - loss: 0.0056\n",
      "Epoch 11/50\n",
      "58/58 [==============================] - 8s 131ms/step - loss: 0.0054\n",
      "Epoch 12/50\n",
      "58/58 [==============================] - 8s 133ms/step - loss: 0.0050\n",
      "Epoch 13/50\n",
      "58/58 [==============================] - 8s 131ms/step - loss: 0.0043\n",
      "Epoch 14/50\n",
      "58/58 [==============================] - 8s 129ms/step - loss: 0.0050\n",
      "Epoch 15/50\n",
      "58/58 [==============================] - 8s 139ms/step - loss: 0.0044\n",
      "Epoch 16/50\n",
      "58/58 [==============================] - 8s 137ms/step - loss: 0.0047\n",
      "Epoch 17/50\n",
      "58/58 [==============================] - 8s 132ms/step - loss: 0.0045\n",
      "Epoch 18/50\n",
      "58/58 [==============================] - 8s 135ms/step - loss: 0.0043\n",
      "Epoch 19/50\n",
      "58/58 [==============================] - 8s 131ms/step - loss: 0.0037\n",
      "Epoch 20/50\n",
      "58/58 [==============================] - 8s 138ms/step - loss: 0.0040\n",
      "Epoch 21/50\n",
      "58/58 [==============================] - 7s 129ms/step - loss: 0.0041\n",
      "Epoch 22/50\n",
      "58/58 [==============================] - 8s 130ms/step - loss: 0.0040\n",
      "Epoch 23/50\n",
      "58/58 [==============================] - 7s 125ms/step - loss: 0.0037\n",
      "Epoch 24/50\n",
      "58/58 [==============================] - 7s 123ms/step - loss: 0.0038\n",
      "Epoch 25/50\n",
      "58/58 [==============================] - 7s 128ms/step - loss: 0.0037\n",
      "Epoch 26/50\n",
      "58/58 [==============================] - 8s 141ms/step - loss: 0.0034\n",
      "Epoch 27/50\n",
      "58/58 [==============================] - 7s 126ms/step - loss: 0.0036\n",
      "Epoch 28/50\n",
      "58/58 [==============================] - 7s 125ms/step - loss: 0.0037\n",
      "Epoch 29/50\n",
      "58/58 [==============================] - 8s 136ms/step - loss: 0.0034\n",
      "Epoch 30/50\n",
      "58/58 [==============================] - 9s 147ms/step - loss: 0.0031\n",
      "Epoch 31/50\n",
      "58/58 [==============================] - 8s 133ms/step - loss: 0.0036\n",
      "Epoch 32/50\n",
      "58/58 [==============================] - 8s 137ms/step - loss: 0.0035\n",
      "Epoch 33/50\n",
      "58/58 [==============================] - 8s 131ms/step - loss: 0.0030\n",
      "Epoch 34/50\n",
      "58/58 [==============================] - 8s 131ms/step - loss: 0.0033\n",
      "Epoch 35/50\n",
      "58/58 [==============================] - 7s 123ms/step - loss: 0.0033\n",
      "Epoch 36/50\n",
      "58/58 [==============================] - 7s 126ms/step - loss: 0.0030\n",
      "Epoch 37/50\n",
      "58/58 [==============================] - 7s 123ms/step - loss: 0.0033\n",
      "Epoch 38/50\n",
      "58/58 [==============================] - 7s 122ms/step - loss: 0.0032\n",
      "Epoch 39/50\n",
      "58/58 [==============================] - 7s 122ms/step - loss: 0.0032\n",
      "Epoch 40/50\n",
      "58/58 [==============================] - 7s 127ms/step - loss: 0.0032\n",
      "Epoch 41/50\n",
      "58/58 [==============================] - 7s 121ms/step - loss: 0.0034\n",
      "Epoch 42/50\n",
      "58/58 [==============================] - 7s 122ms/step - loss: 0.0032\n",
      "Epoch 43/50\n",
      "58/58 [==============================] - 7s 123ms/step - loss: 0.0030\n",
      "Epoch 44/50\n",
      "58/58 [==============================] - 7s 123ms/step - loss: 0.0032\n",
      "Epoch 45/50\n",
      "58/58 [==============================] - 7s 122ms/step - loss: 0.0028\n",
      "Epoch 46/50\n",
      "58/58 [==============================] - 7s 121ms/step - loss: 0.0030\n",
      "Epoch 47/50\n",
      "58/58 [==============================] - 7s 120ms/step - loss: 0.0032\n",
      "Epoch 48/50\n",
      "58/58 [==============================] - 7s 121ms/step - loss: 0.0033\n",
      "Epoch 49/50\n",
      "58/58 [==============================] - 7s 122ms/step - loss: 0.0029\n",
      "Epoch 50/50\n",
      "58/58 [==============================] - 7s 122ms/step - loss: 0.0029\n"
     ]
    },
    {
     "data": {
      "text/plain": [
       "<keras.src.callbacks.History at 0x234862ee0a0>"
      ]
     },
     "execution_count": 22,
     "metadata": {},
     "output_type": "execute_result"
    }
   ],
   "source": [
    "model.compile(optimizer='adam', loss='mean_squared_error')\n",
    "model.fit(x_train, y_train, epochs=50)"
   ]
  },
  {
   "cell_type": "raw",
   "id": "cfb8e49e-2e9e-4ecb-a49d-9b24a9850621",
   "metadata": {},
   "source": [
    "You're telling your model how it should learn. This line \"compiles\" the model. Let's break down the two important parameters:\n",
    "\n",
    "optimizer: You're using 'adam' as the optimizer. The optimizer is like the learning strategy for your model. 'Adam' is a popular and efficient optimizer.\n",
    "loss: You're using 'mean_squared_error' as the loss function. The loss function is a way to measure how well the model is doing. 'Mean squared error' is often used for regression tasks, where you're predicting a numerical value, and it measures how close the model's predictions are to the actual values.\n",
    "\n",
    "Now, you're giving your model some data to learn from:\n",
    "\n",
    "x_train: These are your input data points. Think of them as the \"questions\" you're asking the model.\n",
    "y_train: These are the correct answers or labels corresponding to your input data. It's like telling the model, \"Here are the answers to the questions.\"\n",
    "epochs=50 means that you're going to repeat the learning process 50 times. In each epoch, the model looks at the data, makes predictions, compares them to the correct answers, and adjusts its \"brain\" to get better."
   ]
  },
  {
   "cell_type": "markdown",
   "id": "36b0d17a-6c69-4251-923b-30a2f2732e6d",
   "metadata": {},
   "source": [
    "## Save the model as a file as we have to access it in the future to make the website"
   ]
  },
  {
   "cell_type": "code",
   "execution_count": 23,
   "id": "03c84ebf-2c86-4f89-9dd4-f2bba4ff8446",
   "metadata": {},
   "outputs": [],
   "source": [
    "model.save('keras_model.keras')"
   ]
  },
  {
   "cell_type": "markdown",
   "id": "1f2ae02a-0125-4d01-9d8b-1c883009ca8f",
   "metadata": {},
   "source": [
    "## Predicting data with testing dataset"
   ]
  },
  {
   "cell_type": "code",
   "execution_count": 24,
   "id": "2a3ef724-cdb3-4917-a458-84f10dc44854",
   "metadata": {},
   "outputs": [
    {
     "data": {
      "text/html": [
       "<div>\n",
       "<style scoped>\n",
       "    .dataframe tbody tr th:only-of-type {\n",
       "        vertical-align: middle;\n",
       "    }\n",
       "\n",
       "    .dataframe tbody tr th {\n",
       "        vertical-align: top;\n",
       "    }\n",
       "\n",
       "    .dataframe thead th {\n",
       "        text-align: right;\n",
       "    }\n",
       "</style>\n",
       "<table border=\"1\" class=\"dataframe\">\n",
       "  <thead>\n",
       "    <tr style=\"text-align: right;\">\n",
       "      <th></th>\n",
       "      <th>Close</th>\n",
       "    </tr>\n",
       "  </thead>\n",
       "  <tbody>\n",
       "    <tr>\n",
       "      <th>0</th>\n",
       "      <td>51.790001</td>\n",
       "    </tr>\n",
       "    <tr>\n",
       "      <th>1</th>\n",
       "      <td>51.320000</td>\n",
       "    </tr>\n",
       "    <tr>\n",
       "      <th>2</th>\n",
       "      <td>51.075001</td>\n",
       "    </tr>\n",
       "    <tr>\n",
       "      <th>3</th>\n",
       "      <td>51.152500</td>\n",
       "    </tr>\n",
       "    <tr>\n",
       "      <th>4</th>\n",
       "      <td>50.167500</td>\n",
       "    </tr>\n",
       "  </tbody>\n",
       "</table>\n",
       "</div>"
      ],
      "text/plain": [
       "       Close\n",
       "0  51.790001\n",
       "1  51.320000\n",
       "2  51.075001\n",
       "3  51.152500\n",
       "4  50.167500"
      ]
     },
     "execution_count": 24,
     "metadata": {},
     "output_type": "execute_result"
    }
   ],
   "source": [
    "past_100_days=data_training.tail(100)\n",
    "final_df = pd.concat([past_100_days, data_testing], ignore_index=True)\n",
    "final_df.head()"
   ]
  },
  {
   "cell_type": "code",
   "execution_count": 25,
   "id": "f78a8c22-4c56-4eba-adf6-1875403937c1",
   "metadata": {},
   "outputs": [],
   "source": [
    "input_data=scaler.fit_transform(final_df)"
   ]
  },
  {
   "cell_type": "code",
   "execution_count": 26,
   "id": "428b5b55-f349-4d1c-8a36-f4dfdc03e81c",
   "metadata": {},
   "outputs": [],
   "source": [
    "x_test=[]\n",
    "y_test=[]\n",
    "\n",
    "for i in range(100, input_data.shape[0]):\n",
    "    x_test.append(input_data[i-100:i])\n",
    "    y_test.append(input_data[i, 0])"
   ]
  },
  {
   "cell_type": "code",
   "execution_count": 27,
   "id": "0b05f6c6-4181-4815-8b79-8b60fe083f72",
   "metadata": {},
   "outputs": [
    {
     "name": "stdout",
     "output_type": "stream",
     "text": [
      "(831, 100, 1)\n",
      "(831,)\n"
     ]
    }
   ],
   "source": [
    "x_test, y_test=np.array(x_test), np.array(y_test)\n",
    "print(x_test.shape)\n",
    "print(y_test.shape)"
   ]
  },
  {
   "cell_type": "code",
   "execution_count": 28,
   "id": "64236a09-517b-46f9-bead-da0a613db79a",
   "metadata": {},
   "outputs": [
    {
     "name": "stdout",
     "output_type": "stream",
     "text": [
      "26/26 [==============================] - 1s 38ms/step\n"
     ]
    }
   ],
   "source": [
    "#Making predictions\n",
    "\n",
    "y_predicted=model.predict(x_test)"
   ]
  },
  {
   "cell_type": "code",
   "execution_count": 29,
   "id": "4edd02dd-88e9-4d3a-b4df-e2911375fc40",
   "metadata": {},
   "outputs": [
    {
     "data": {
      "text/plain": [
       "(831, 1)"
      ]
     },
     "execution_count": 29,
     "metadata": {},
     "output_type": "execute_result"
    }
   ],
   "source": [
    "y_predicted.shape"
   ]
  },
  {
   "cell_type": "code",
   "execution_count": 30,
   "id": "8dbb87bd-7c74-4345-bc25-da36240d628c",
   "metadata": {},
   "outputs": [],
   "source": [
    "#Scaling up the predicted and testing values to their original values\n",
    "\n",
    "scaler=scaler.scale_"
   ]
  },
  {
   "cell_type": "markdown",
   "id": "e4bba2c2-3bbf-4e54-b30c-e642f8e8af6f",
   "metadata": {},
   "source": [
    "## Scaling back up the data to regain original values"
   ]
  },
  {
   "cell_type": "code",
   "execution_count": 31,
   "id": "ec63d4d9-8982-489e-b818-1669b2c20893",
   "metadata": {},
   "outputs": [],
   "source": [
    "scale_factor=1/scaler[0]\n",
    "y_predicted=y_predicted*scale_factor\n",
    "y_test=y_test*scale_factor"
   ]
  },
  {
   "cell_type": "code",
   "execution_count": 32,
   "id": "c29fdb78-b3cc-43f7-a31f-724db12e6444",
   "metadata": {},
   "outputs": [
    {
     "data": {
      "text/plain": [
       "(831,)"
      ]
     },
     "execution_count": 32,
     "metadata": {},
     "output_type": "execute_result"
    }
   ],
   "source": [
    "y_test.shape"
   ]
  },
  {
   "cell_type": "markdown",
   "id": "e5503040-fe0a-45c6-93e0-123bd4430650",
   "metadata": {},
   "source": [
    "## Plotting Original vs Predicted Stock trends"
   ]
  },
  {
   "cell_type": "code",
   "execution_count": 33,
   "id": "fc2b3cf1-5ed5-41a2-b0ce-8bdfe037c4e8",
   "metadata": {},
   "outputs": [
    {
     "data": {
      "image/png": "[encoded data removed]",
      "text/plain": [
       "<Figure size 1200x600 with 1 Axes>"
      ]
     },
     "metadata": {},
     "output_type": "display_data"
    }
   ],
   "source": [
    "plt.figure(figsize=(12, 6))\n",
    "plt.plot(y_test, color='b', label='Original Price')\n",
    "plt.plot(y_predicted, color='r', label='Predicted Price')\n",
    "plt.xlabel('Time')\n",
    "plt.ylabel('Price')\n",
    "plt.legend()\n",
    "plt.show()"
   ]
  },
  {
   "cell_type": "markdown",
   "id": "6c6b77d3-4d71-4618-99a3-ed06437bd9c6",
   "metadata": {},
   "source": [
    "## Predictions for 30 days into the future"
   ]
  },
  {
   "cell_type": "code",
   "execution_count": 34,
   "id": "2cb74562-5c1d-4ab3-a0f4-ca39b1b9e204",
   "metadata": {},
   "outputs": [],
   "source": [
    "#To predict future data, we are taking samples from 100 days before the current date\n",
    "\n",
    "start_date=(datetime.now()-timedelta(days=100)).strftime('%Y-%m-%d')\n",
    "end_date=datetime.now().strftime('%Y-%m-%d')"
   ]
  },
  {
   "cell_type": "code",
   "execution_count": 35,
   "id": "101b90db-f6e9-47b5-9e7d-adc7ea11ccb5",
   "metadata": {},
   "outputs": [
    {
     "name": "stdout",
     "output_type": "stream",
     "text": [
      "[*********************100%%**********************]  1 of 1 completed\n"
     ]
    },
    {
     "data": {
      "text/html": [
       "<div>\n",
       "<style scoped>\n",
       "    .dataframe tbody tr th:only-of-type {\n",
       "        vertical-align: middle;\n",
       "    }\n",
       "\n",
       "    .dataframe tbody tr th {\n",
       "        vertical-align: top;\n",
       "    }\n",
       "\n",
       "    .dataframe thead th {\n",
       "        text-align: right;\n",
       "    }\n",
       "</style>\n",
       "<table border=\"1\" class=\"dataframe\">\n",
       "  <thead>\n",
       "    <tr style=\"text-align: right;\">\n",
       "      <th></th>\n",
       "      <th>Open</th>\n",
       "      <th>High</th>\n",
       "      <th>Low</th>\n",
       "      <th>Close</th>\n",
       "      <th>Adj Close</th>\n",
       "      <th>Volume</th>\n",
       "    </tr>\n",
       "    <tr>\n",
       "      <th>Date</th>\n",
       "      <th></th>\n",
       "      <th></th>\n",
       "      <th></th>\n",
       "      <th></th>\n",
       "      <th></th>\n",
       "      <th></th>\n",
       "    </tr>\n",
       "  </thead>\n",
       "  <tbody>\n",
       "    <tr>\n",
       "      <th>2023-05-30</th>\n",
       "      <td>176.960007</td>\n",
       "      <td>178.990005</td>\n",
       "      <td>176.570007</td>\n",
       "      <td>177.300003</td>\n",
       "      <td>177.060898</td>\n",
       "      <td>55964400</td>\n",
       "    </tr>\n",
       "    <tr>\n",
       "      <th>2023-05-31</th>\n",
       "      <td>177.330002</td>\n",
       "      <td>179.350006</td>\n",
       "      <td>176.759995</td>\n",
       "      <td>177.250000</td>\n",
       "      <td>177.010971</td>\n",
       "      <td>99625300</td>\n",
       "    </tr>\n",
       "    <tr>\n",
       "      <th>2023-06-01</th>\n",
       "      <td>177.699997</td>\n",
       "      <td>180.119995</td>\n",
       "      <td>176.929993</td>\n",
       "      <td>180.089996</td>\n",
       "      <td>179.847137</td>\n",
       "      <td>68901800</td>\n",
       "    </tr>\n",
       "    <tr>\n",
       "      <th>2023-06-02</th>\n",
       "      <td>181.029999</td>\n",
       "      <td>181.779999</td>\n",
       "      <td>179.259995</td>\n",
       "      <td>180.949997</td>\n",
       "      <td>180.705978</td>\n",
       "      <td>61945900</td>\n",
       "    </tr>\n",
       "    <tr>\n",
       "      <th>2023-06-05</th>\n",
       "      <td>182.630005</td>\n",
       "      <td>184.949997</td>\n",
       "      <td>178.039993</td>\n",
       "      <td>179.580002</td>\n",
       "      <td>179.337830</td>\n",
       "      <td>121946500</td>\n",
       "    </tr>\n",
       "  </tbody>\n",
       "</table>\n",
       "</div>"
      ],
      "text/plain": [
       "                  Open        High         Low       Close   Adj Close  \\\n",
       "Date                                                                     \n",
       "2023-05-30  176.960007  178.990005  176.570007  177.300003  177.060898   \n",
       "2023-05-31  177.330002  179.350006  176.759995  177.250000  177.010971   \n",
       "2023-06-01  177.699997  180.119995  176.929993  180.089996  179.847137   \n",
       "2023-06-02  181.029999  181.779999  179.259995  180.949997  180.705978   \n",
       "2023-06-05  182.630005  184.949997  178.039993  179.580002  179.337830   \n",
       "\n",
       "               Volume  \n",
       "Date                   \n",
       "2023-05-30   55964400  \n",
       "2023-05-31   99625300  \n",
       "2023-06-01   68901800  \n",
       "2023-06-02   61945900  \n",
       "2023-06-05  121946500  "
      ]
     },
     "execution_count": 35,
     "metadata": {},
     "output_type": "execute_result"
    }
   ],
   "source": [
    "symbol='AAPL'\n",
    "\n",
    "new_data=yf.download(symbol, start=start_date, end=end_date)\n",
    "new_data.head()"
   ]
  },
  {
   "cell_type": "code",
   "execution_count": 36,
   "id": "9991f76a-0e45-43ba-a9e8-5b3717a9f339",
   "metadata": {},
   "outputs": [
    {
     "data": {
      "text/html": [
       "<div>\n",
       "<style scoped>\n",
       "    .dataframe tbody tr th:only-of-type {\n",
       "        vertical-align: middle;\n",
       "    }\n",
       "\n",
       "    .dataframe tbody tr th {\n",
       "        vertical-align: top;\n",
       "    }\n",
       "\n",
       "    .dataframe thead th {\n",
       "        text-align: right;\n",
       "    }\n",
       "</style>\n",
       "<table border=\"1\" class=\"dataframe\">\n",
       "  <thead>\n",
       "    <tr style=\"text-align: right;\">\n",
       "      <th></th>\n",
       "      <th>Date</th>\n",
       "      <th>Open</th>\n",
       "      <th>High</th>\n",
       "      <th>Low</th>\n",
       "      <th>Close</th>\n",
       "      <th>Adj Close</th>\n",
       "      <th>Volume</th>\n",
       "    </tr>\n",
       "  </thead>\n",
       "  <tbody>\n",
       "    <tr>\n",
       "      <th>0</th>\n",
       "      <td>2023-05-30</td>\n",
       "      <td>176.960007</td>\n",
       "      <td>178.990005</td>\n",
       "      <td>176.570007</td>\n",
       "      <td>177.300003</td>\n",
       "      <td>177.060898</td>\n",
       "      <td>55964400</td>\n",
       "    </tr>\n",
       "    <tr>\n",
       "      <th>1</th>\n",
       "      <td>2023-05-31</td>\n",
       "      <td>177.330002</td>\n",
       "      <td>179.350006</td>\n",
       "      <td>176.759995</td>\n",
       "      <td>177.250000</td>\n",
       "      <td>177.010971</td>\n",
       "      <td>99625300</td>\n",
       "    </tr>\n",
       "    <tr>\n",
       "      <th>2</th>\n",
       "      <td>2023-06-01</td>\n",
       "      <td>177.699997</td>\n",
       "      <td>180.119995</td>\n",
       "      <td>176.929993</td>\n",
       "      <td>180.089996</td>\n",
       "      <td>179.847137</td>\n",
       "      <td>68901800</td>\n",
       "    </tr>\n",
       "    <tr>\n",
       "      <th>3</th>\n",
       "      <td>2023-06-02</td>\n",
       "      <td>181.029999</td>\n",
       "      <td>181.779999</td>\n",
       "      <td>179.259995</td>\n",
       "      <td>180.949997</td>\n",
       "      <td>180.705978</td>\n",
       "      <td>61945900</td>\n",
       "    </tr>\n",
       "    <tr>\n",
       "      <th>4</th>\n",
       "      <td>2023-06-05</td>\n",
       "      <td>182.630005</td>\n",
       "      <td>184.949997</td>\n",
       "      <td>178.039993</td>\n",
       "      <td>179.580002</td>\n",
       "      <td>179.337830</td>\n",
       "      <td>121946500</td>\n",
       "    </tr>\n",
       "  </tbody>\n",
       "</table>\n",
       "</div>"
      ],
      "text/plain": [
       "        Date        Open        High         Low       Close   Adj Close  \\\n",
       "0 2023-05-30  176.960007  178.990005  176.570007  177.300003  177.060898   \n",
       "1 2023-05-31  177.330002  179.350006  176.759995  177.250000  177.010971   \n",
       "2 2023-06-01  177.699997  180.119995  176.929993  180.089996  179.847137   \n",
       "3 2023-06-02  181.029999  181.779999  179.259995  180.949997  180.705978   \n",
       "4 2023-06-05  182.630005  184.949997  178.039993  179.580002  179.337830   \n",
       "\n",
       "      Volume  \n",
       "0   55964400  \n",
       "1   99625300  \n",
       "2   68901800  \n",
       "3   61945900  \n",
       "4  121946500  "
      ]
     },
     "execution_count": 36,
     "metadata": {},
     "output_type": "execute_result"
    }
   ],
   "source": [
    "new_data=new_data.reset_index()\n",
    "new_data.head()"
   ]
  },
  {
   "cell_type": "code",
   "execution_count": 37,
   "id": "8f0993da-53b2-4f9b-bdc1-a0bc26a05fc9",
   "metadata": {},
   "outputs": [
    {
     "data": {
      "text/html": [
       "<div>\n",
       "<style scoped>\n",
       "    .dataframe tbody tr th:only-of-type {\n",
       "        vertical-align: middle;\n",
       "    }\n",
       "\n",
       "    .dataframe tbody tr th {\n",
       "        vertical-align: top;\n",
       "    }\n",
       "\n",
       "    .dataframe thead th {\n",
       "        text-align: right;\n",
       "    }\n",
       "</style>\n",
       "<table border=\"1\" class=\"dataframe\">\n",
       "  <thead>\n",
       "    <tr style=\"text-align: right;\">\n",
       "      <th></th>\n",
       "      <th>Open</th>\n",
       "      <th>High</th>\n",
       "      <th>Low</th>\n",
       "      <th>Close</th>\n",
       "      <th>Volume</th>\n",
       "    </tr>\n",
       "  </thead>\n",
       "  <tbody>\n",
       "    <tr>\n",
       "      <th>0</th>\n",
       "      <td>176.960007</td>\n",
       "      <td>178.990005</td>\n",
       "      <td>176.570007</td>\n",
       "      <td>177.300003</td>\n",
       "      <td>55964400</td>\n",
       "    </tr>\n",
       "    <tr>\n",
       "      <th>1</th>\n",
       "      <td>177.330002</td>\n",
       "      <td>179.350006</td>\n",
       "      <td>176.759995</td>\n",
       "      <td>177.250000</td>\n",
       "      <td>99625300</td>\n",
       "    </tr>\n",
       "    <tr>\n",
       "      <th>2</th>\n",
       "      <td>177.699997</td>\n",
       "      <td>180.119995</td>\n",
       "      <td>176.929993</td>\n",
       "      <td>180.089996</td>\n",
       "      <td>68901800</td>\n",
       "    </tr>\n",
       "    <tr>\n",
       "      <th>3</th>\n",
       "      <td>181.029999</td>\n",
       "      <td>181.779999</td>\n",
       "      <td>179.259995</td>\n",
       "      <td>180.949997</td>\n",
       "      <td>61945900</td>\n",
       "    </tr>\n",
       "    <tr>\n",
       "      <th>4</th>\n",
       "      <td>182.630005</td>\n",
       "      <td>184.949997</td>\n",
       "      <td>178.039993</td>\n",
       "      <td>179.580002</td>\n",
       "      <td>121946500</td>\n",
       "    </tr>\n",
       "  </tbody>\n",
       "</table>\n",
       "</div>"
      ],
      "text/plain": [
       "         Open        High         Low       Close     Volume\n",
       "0  176.960007  178.990005  176.570007  177.300003   55964400\n",
       "1  177.330002  179.350006  176.759995  177.250000   99625300\n",
       "2  177.699997  180.119995  176.929993  180.089996   68901800\n",
       "3  181.029999  181.779999  179.259995  180.949997   61945900\n",
       "4  182.630005  184.949997  178.039993  179.580002  121946500"
      ]
     },
     "execution_count": 37,
     "metadata": {},
     "output_type": "execute_result"
    }
   ],
   "source": [
    "new_data=new_data.drop(['Date', 'Adj Close'], axis=1)\n",
    "new_data.head()"
   ]
  },
  {
   "cell_type": "code",
   "execution_count": 38,
   "id": "d89e550c-9cd3-4dd8-a6c1-1c0fee3e2cca",
   "metadata": {},
   "outputs": [
    {
     "data": {
      "text/plain": [
       "Open      0\n",
       "High      0\n",
       "Low       0\n",
       "Close     0\n",
       "Volume    0\n",
       "dtype: int64"
      ]
     },
     "execution_count": 38,
     "metadata": {},
     "output_type": "execute_result"
    }
   ],
   "source": [
    "new_data.isnull().sum()"
   ]
  },
  {
   "cell_type": "code",
   "execution_count": 39,
   "id": "154901e9-db92-48bd-9703-ab45da9b5f9b",
   "metadata": {},
   "outputs": [
    {
     "data": {
      "text/plain": [
       "Open      0\n",
       "High      0\n",
       "Low       0\n",
       "Close     0\n",
       "Volume    0\n",
       "dtype: int64"
      ]
     },
     "execution_count": 39,
     "metadata": {},
     "output_type": "execute_result"
    }
   ],
   "source": [
    "new_data.isna().sum()"
   ]
  },
  {
   "cell_type": "markdown",
   "id": "b844a49a-ffcb-4d58-8d5f-80caa92c1eb3",
   "metadata": {},
   "source": [
    "## Scaling and normalization of data"
   ]
  },
  {
   "cell_type": "code",
   "execution_count": 40,
   "id": "2b5dd6ec-dfa0-48c1-a6d5-24f4f9438503",
   "metadata": {},
   "outputs": [
    {
     "name": "stdout",
     "output_type": "stream",
     "text": [
      "[[0.14699347]\n",
      " [0.14476617]\n",
      " [0.27126936]\n",
      " [0.30957674]\n",
      " [0.24855245]\n",
      " [0.2320716 ]\n",
      " [0.17015625]\n",
      " [0.2926507 ]\n",
      " [0.31002261]\n",
      " [0.43607994]\n",
      " [0.41469928]\n",
      " [0.44320705]\n",
      " [0.53496642]\n",
      " [0.48641424]\n",
      " [0.49042298]\n",
      " [0.44365292]\n",
      " [0.57906467]\n",
      " [0.56481044]\n",
      " [0.50200471]\n",
      " [0.6262806 ]\n",
      " [0.6792874 ]\n",
      " [0.694432  ]\n",
      " [0.88953247]\n",
      " [0.82227213]\n",
      " [0.77193783]\n",
      " [0.79331848]\n",
      " [0.74298418]\n",
      " [0.65077963]\n",
      " [0.62717166]\n",
      " [0.70245017]\n",
      " [0.73674813]\n",
      " [0.74343005]\n",
      " [0.89042353]\n",
      " [0.8788418 ]\n",
      " [0.93986677]\n",
      " [0.85211615]\n",
      " [0.79910935]\n",
      " [0.83518942]\n",
      " [0.87394199]\n",
      " [0.91314044]\n",
      " [0.85612489]\n",
      " [0.97238329]\n",
      " [1.        ]\n",
      " [0.96258368]\n",
      " [0.82761712]\n",
      " [0.76481071]\n",
      " [0.3559023 ]\n",
      " [0.21603594]\n",
      " [0.25835206]\n",
      " [0.18663711]\n",
      " [0.17683749]\n",
      " [0.16881932]\n",
      " [0.24320746]\n",
      " [0.15367472]\n",
      " [0.11447696]\n",
      " [0.        ]\n",
      " [0.02182653]\n",
      " [0.08195976]\n",
      " [0.14387511]\n",
      " [0.31714905]\n",
      " [0.10601359]\n",
      " [0.20534527]\n",
      " [0.27572398]\n",
      " [0.45077935]\n",
      " [0.60801763]\n",
      " [0.61781724]\n",
      " [0.68864182]]\n"
     ]
    }
   ],
   "source": [
    "from sklearn.preprocessing import MinMaxScaler\n",
    "new_scaler=MinMaxScaler(feature_range=(0, 1))\n",
    "new_data_training_array=new_scaler.fit_transform(pd.DataFrame(new_data['Close']))\n",
    "print(new_data_training_array)"
   ]
  },
  {
   "cell_type": "code",
   "execution_count": 41,
   "id": "dcc259fa-b9d0-4811-8ffa-f017fe7181d7",
   "metadata": {},
   "outputs": [
    {
     "data": {
      "text/plain": [
       "(1, 67, 1)"
      ]
     },
     "execution_count": 41,
     "metadata": {},
     "output_type": "execute_result"
    }
   ],
   "source": [
    "x_test_new=[new_data_training_array[-100:]]\n",
    "x_test_new=np.array(x_test_new)\n",
    "x_test_new.shape"
   ]
  },
  {
   "cell_type": "code",
   "execution_count": 42,
   "id": "38a4a9c6-08f9-4fb3-b590-5b30e89eb947",
   "metadata": {},
   "outputs": [],
   "source": [
    "new_scaler=new_scaler.scale_"
   ]
  },
  {
   "cell_type": "code",
   "execution_count": 43,
   "id": "88fd18b3-f90c-40f7-83e0-c86c5787e576",
   "metadata": {},
   "outputs": [
    {
     "name": "stdout",
     "output_type": "stream",
     "text": [
      "1/1 [==============================] - 0s 373ms/step\n",
      "1/1 [==============================] - 0s 29ms/step\n",
      "1/1 [==============================] - 0s 29ms/step\n",
      "1/1 [==============================] - 0s 31ms/step\n",
      "1/1 [==============================] - 0s 26ms/step\n",
      "1/1 [==============================] - 0s 28ms/step\n",
      "1/1 [==============================] - 0s 28ms/step\n",
      "1/1 [==============================] - 0s 27ms/step\n",
      "1/1 [==============================] - 0s 28ms/step\n",
      "1/1 [==============================] - 0s 28ms/step\n",
      "1/1 [==============================] - 0s 27ms/step\n",
      "1/1 [==============================] - 0s 28ms/step\n",
      "1/1 [==============================] - 0s 29ms/step\n",
      "1/1 [==============================] - 0s 26ms/step\n",
      "1/1 [==============================] - 0s 28ms/step\n",
      "1/1 [==============================] - 0s 28ms/step\n",
      "1/1 [==============================] - 0s 28ms/step\n",
      "1/1 [==============================] - 0s 27ms/step\n",
      "1/1 [==============================] - 0s 27ms/step\n",
      "1/1 [==============================] - 0s 26ms/step\n",
      "1/1 [==============================] - 0s 27ms/step\n",
      "1/1 [==============================] - 0s 27ms/step\n",
      "1/1 [==============================] - 0s 27ms/step\n",
      "1/1 [==============================] - 0s 27ms/step\n",
      "1/1 [==============================] - 0s 26ms/step\n",
      "1/1 [==============================] - 0s 28ms/step\n",
      "1/1 [==============================] - 0s 27ms/step\n",
      "1/1 [==============================] - 0s 28ms/step\n",
      "1/1 [==============================] - 0s 28ms/step\n",
      "1/1 [==============================] - 0s 28ms/step\n"
     ]
    }
   ],
   "source": [
    "scale_factor_new=1/new_scaler[0]\n",
    "predicted_prices=[]\n",
    "\n",
    "# Predict next 30 days\n",
    "for i in range(30):\n",
    "    y_predicted_new=model.predict(x_test_new)\n",
    "    y_predicted_new=y_predicted_new*scale_factor_new\n",
    "    \n",
    "    # Append the prediction and remove the oldest data point\n",
    "    x_test_new=np.append(x_test_new, y_predicted_new[-1])  \n",
    "    x_test_new=x_test_new[1:]\n",
    "    x_test_new = x_test_new.reshape(1, -1, 1)\n",
    "\n",
    "    #Converting shape of x_test_new from (1, 67, 1) to lstm accepted shape (1, 100, 1)\n",
    "    desired_sequence_length = 100\n",
    "\n",
    "    if x_test_new.shape[1] < desired_sequence_length:\n",
    "        padding_width = desired_sequence_length - x_test_new.shape[1]\n",
    "        zero_padding = np.zeros((x_test_new.shape[0], padding_width, x_test_new.shape[2]))\n",
    "        x_test_new = np.concatenate((zero_padding, x_test_new), axis=1)\n",
    "    elif x_test_new.shape[1] > desired_sequence_length:\n",
    "    # If the sequence is longer, you can truncate it to the desired length\n",
    "        x_test_new = x_test_new[:, :desired_sequence_length, :]\n",
    "\n",
    "    predicted_prices.append(y_predicted_new[-1])"
   ]
  },
  {
   "cell_type": "markdown",
   "id": "eb64043f-38ff-4613-b7e6-643900a5e02e",
   "metadata": {},
   "source": [
    "## Convert predicted_prices to a DataFrame with dates"
   ]
  },
  {
   "cell_type": "code",
   "execution_count": 44,
   "id": "64ecb5e3-b767-4006-bd50-f9a2241394a4",
   "metadata": {},
   "outputs": [],
   "source": [
    "date_rng=pd.date_range(start=end_date, periods=30, freq='D')\n",
    "predicted_df=pd.DataFrame({'Date':date_rng, 'Predicted Price':predicted_prices})"
   ]
  },
  {
   "cell_type": "markdown",
   "id": "cfcac159-7ab3-4a72-9702-52c102d53f2a",
   "metadata": {},
   "source": [
    "## Plotting Closing price vs date for the next 30 days"
   ]
  },
  {
   "cell_type": "code",
   "execution_count": 45,
   "id": "cd490b97-d7cb-457d-bffa-d97fc25683ba",
   "metadata": {},
   "outputs": [
    {
     "data": {
      "image/png": "[encoded data removed]",
      "text/plain": [
       "<Figure size 1200x600 with 1 Axes>"
      ]
     },
     "metadata": {},
     "output_type": "display_data"
    }
   ],
   "source": [
    "date_values = predicted_df['Date'].values\n",
    "predicted_price_values = predicted_df['Predicted Price'].values\n",
    "\n",
    "plt.figure(figsize=(12, 6))\n",
    "plt.plot(date_values, predicted_price_values, color='r', label='Predicted Price')\n",
    "plt.xlabel('Date')\n",
    "plt.ylabel('Predicted Price')\n",
    "plt.xticks(rotation='vertical')\n",
    "plt.legend()\n",
    "plt.show()"
   ]
  }
 ],
 "metadata": {
  "kernelspec": {
   "display_name": "Python 3 (ipykernel)",
   "language": "python",
   "name": "python3"
  },
  "language_info": {
   "codemirror_mode": {
    "name": "ipython",
    "version": 3
   },
   "file_extension": ".py",
   "mimetype": "text/x-python",
   "name": "python",
   "nbconvert_exporter": "python",
   "pygments_lexer": "ipython3",
   "version": "3.9.4"
  }
 },
 "nbformat": 4,
 "nbformat_minor": 5
}
